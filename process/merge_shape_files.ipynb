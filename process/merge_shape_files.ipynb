{
 "cells": [
  {
   "cell_type": "code",
   "execution_count": null,
   "metadata": {},
   "outputs": [],
   "source": [
    "# import base packages for preprocessing shape files\n",
    "import geopandas as gpd\n",
    "import pandas as pd\n",
    "import numpy as np\n",
    "\n",
    "import matplotlib.pyplot as plt\n",
    "import contextily as cx\n",
    "import mapclassify\n",
    "import folium\n",
    "\n",
    "# note that the %load_ext autoreload line only needs to be be run once\n",
    "%load_ext autoreload\n",
    "\n",
    "# remove scientific notation\n",
    "pd.options.display.float_format = '{:.2f}'.format"
   ]
  },
  {
   "cell_type": "code",
   "execution_count": null,
   "metadata": {},
   "outputs": [],
   "source": [
    "# by including this autoreload command, we only need to re-import Spatial_Joins if we make/save changes to the original py file\n",
    "%autoreload\n",
    "from functions.partial_assignment import partial_assignment"
   ]
  },
  {
   "cell_type": "markdown",
   "metadata": {},
   "source": [
    "### Import Data"
   ]
  },
  {
   "cell_type": "code",
   "execution_count": null,
   "metadata": {},
   "outputs": [],
   "source": [
    "red = gpd.read_file(\"data/fullDownload.geojson\")\n",
    "sab = gpd.read_file(\"data/temm_v2.geojson\")"
   ]
  },
  {
   "cell_type": "markdown",
   "metadata": {},
   "source": [
    "### Pre-Process Geospatial Data\n",
    "\n",
    "#### Redlining"
   ]
  },
  {
   "cell_type": "code",
   "execution_count": null,
   "metadata": {},
   "outputs": [],
   "source": [
    "print(red.shape)\n",
    "red.sample(5)"
   ]
  },
  {
   "cell_type": "code",
   "execution_count": null,
   "metadata": {},
   "outputs": [],
   "source": [
    "# drop empty geometries, reset index\n",
    "red = red.loc[red.is_valid]\n",
    "red.reset_index(inplace=True, drop=True)\n",
    "\n",
    "# set projection for spatial merging\n",
    "red.to_crs(epsg=4269)"
   ]
  },
  {
   "cell_type": "markdown",
   "metadata": {},
   "source": [
    "#### Service Area Bounds"
   ]
  },
  {
   "cell_type": "code",
   "execution_count": null,
   "metadata": {},
   "outputs": [],
   "source": [
    "# drop empty geometries, reset index\n",
    "sab = sab.loc[sab.is_valid]\n",
    "sab.reset_index(inplace=True, drop=True)"
   ]
  },
  {
   "cell_type": "code",
   "execution_count": null,
   "metadata": {},
   "outputs": [],
   "source": [
    "#subset the water system shape files to reduced columns and only Tier 1 data\n",
    "sab = sab[['pwsid', 'pws_name', 'state_code', 'city_served', 'county_served', 'population_served_count', \n",
    "           'service_connections_count', 'tier', 'geometry']].copy()\n",
    "\n",
    "sab = sab.query(\"tier=='Tier 1'\").copy()"
   ]
  },
  {
   "cell_type": "markdown",
   "metadata": {},
   "source": [
    "### Merge Redlining & Service Area Bounds Data"
   ]
  },
  {
   "cell_type": "code",
   "execution_count": null,
   "metadata": {},
   "outputs": [],
   "source": [
    "# call the area overlap function to determine where HOLC graded geographies overlap with water systems\n",
    "# and store the size of the intersection and the extent to which they overlap\n",
    "red_sab = partial_assignment.calculate_area_percent(source_sf=red, \n",
    "                                                    target_sf=sab, \n",
    "                                                    target_sf_uid='pwsid', \n",
    "                                                    source_sf_uid='neighborhood_id')"
   ]
  },
  {
   "cell_type": "code",
   "execution_count": null,
   "metadata": {},
   "outputs": [],
   "source": [
    "# drop tetxt column and geometry for storing values as csv\n",
    "red_sab.drop(['area_description_data', 'geometry'], axis=1, inplace=True)\n",
    "red_sab.drop_duplicates(inplace=True, ignore_index=True)\n",
    "red_sab.shape"
   ]
  },
  {
   "cell_type": "code",
   "execution_count": null,
   "metadata": {},
   "outputs": [],
   "source": [
    "# create simple df of data for use in analysis\n",
    "# red_sab.to_csv(\"data/output/red_sab.csv\", index=False)"
   ]
  },
  {
   "cell_type": "code",
   "execution_count": null,
   "metadata": {},
   "outputs": [],
   "source": [
    "red_sab.sample(5)"
   ]
  },
  {
   "cell_type": "markdown",
   "metadata": {},
   "source": [
    "### Additional Data Prep - SAB Details"
   ]
  },
  {
   "cell_type": "code",
   "execution_count": null,
   "metadata": {},
   "outputs": [],
   "source": [
    "# create simple export of service area bounds data for merging into final project data\n",
    "sab_df = sab[['pwsid', 'pws_name', 'state_code', 'population_served_count']].copy()\n",
    "# sab_df.to_csv(\"data/output/pws_by_state.csv\", index=False)"
   ]
  },
  {
   "cell_type": "markdown",
   "metadata": {},
   "source": [
    "### Additional Data Prep - Texas Interactive Map"
   ]
  },
  {
   "cell_type": "code",
   "execution_count": null,
   "metadata": {},
   "outputs": [],
   "source": [
    "# repeat similar process as above but with smaller dataset to be more efficient for interactive mapping\n",
    "\n",
    "#preprocessing redlining data\n",
    "red = gpd.read_file(\"data/fullDownload.geojson\")\n",
    "red.to_crs(epsg=4269)\n",
    "red = red.loc[red.is_valid]\n",
    "red.reset_index(inplace=True, drop=True)\n",
    "\n",
    "# preprocessing water system data\n",
    "sab = gpd.read_file(\"data/temm_v2.geojson\")\n",
    "sab.to_crs(epsg=4269)\n",
    "# drop empty geometries, reset index\n",
    "sab = sab.loc[sab.is_valid]\n",
    "sab.reset_index(inplace=True, drop=True)\n",
    "\n",
    "# keep only texas water systems and neighborhoods\n",
    "red_ex = red.query(\"state=='TX'\").copy()\n",
    "sab_ex = sab.query(\"state_code=='TX'\").copy()"
   ]
  },
  {
   "cell_type": "code",
   "execution_count": null,
   "metadata": {},
   "outputs": [],
   "source": [
    "# create new ordinal version of HOLC grade for testing mapping with Folium\n",
    "red_ex.drop(columns=['holc_id','name'], inplace=True)\n",
    "red_ex['holc_grade_num'] = [ord(holc_grade) for holc_grade in red_ex.holc_grade]\n",
    "\n",
    "sab_ex.reset_index(inplace=True, drop=True)\n",
    "red_ex.reset_index(inplace=True, drop=True)\n",
    "\n",
    "# \n",
    "red_sab_ex = partial_assignment.calculate_area_percent(source_sf=red_ex, \n",
    "                                                       target_sf=sab_ex, \n",
    "                                                       target_sf_uid='pwsid', \n",
    "                                                       source_sf_uid='neighborhood_id')"
   ]
  },
  {
   "cell_type": "code",
   "execution_count": null,
   "metadata": {},
   "outputs": [],
   "source": [
    "# drop most columns\n",
    "red_sab_ex.drop(columns=['primacy_agency_code', 'city_served', 'state_code', 'neighborhood_id', 'state',\n",
    "       'city', 'holc_grade', 'holc_grade_num', 'percent_overlap',\n",
    "       'county_served', 'owner_type_code', 'is_wholesaler_ind', 'primacy_type',\n",
    "       'primary_source_code', 'tier', 'centroid_lat', 'centroid_lon',\n",
    "       'centroid_quality', 'pred_05', 'pred_50', 'pred_95',\n",
    "       'matched_bound_geoid', 'matched_bound_name', 'area_description_data', 'intersection_size'], inplace=True)\n",
    "\n",
    "# drop duplicates, store as GPD, then create new unique ID based on combination of other unique IDs\n",
    "red_sab.drop_duplicates(inplace=True)\n",
    "red_sab = gpd.GeoDataFrame(red_sab)\n",
    "red_sab['intersection_id'] = str(red_sab.pwsid) + \"_\" + str(red_sab.neighborhood_id)"
   ]
  },
  {
   "cell_type": "markdown",
   "metadata": {},
   "source": [
    "### Test Mapping"
   ]
  },
  {
   "cell_type": "code",
   "execution_count": null,
   "metadata": {},
   "outputs": [],
   "source": [
    "# Test mapping before exporting files\n",
    "\n",
    "# Initialize the basemap for contextual location\n",
    "m = folium.Map(location=[30.5, -98.5], min_lon=-107, max_lon=-93, min_lat=29, max_lat=36, tiles=None)\n",
    "\n",
    "# Create choropleth map\n",
    "ch1 = folium.Choropleth(\n",
    "            name='Service Area Bounds',\n",
    "            geo_data=red_sab,\n",
    "            data=red_sab,\n",
    "            columns=['intersection_id', 'holc_grade_num'],\n",
    "            key_on='feature.properties.intersection_id',\n",
    "            bins=4,\n",
    "            fill_color='Purples',\n",
    "            fill_opacity=0.6, \n",
    "            line_opacity=0.3,\n",
    "            highlight=True, \n",
    "            line_color='black').geojson.add_to(m)\n",
    "\n",
    "# Create the tooltip for additional details\n",
    "ch1.add_child(\n",
    "    folium.features.GeoJsonPopup(['pws_name', 'holc_grade'], labels=True, \n",
    "                                   aliases=['Name', 'HOLC Grade'])\n",
    ")\n",
    "\n",
    "# Create choropleth map\n",
    "ch2 = folium.Choropleth(\n",
    "            name='Redlining HOLC Grades',\n",
    "            overlay=False,\n",
    "            geo_data=red_ex, \n",
    "            data=red_ex,\n",
    "            columns=['neighborhood_id', 'holc_grade_num'],\n",
    "            key_on='feature.properties.neighborhood_id',\n",
    "            bins=4,\n",
    "            fill_color='Reds',\n",
    "            fill_opacity=0.6, \n",
    "            line_opacity=0.3,\n",
    "            highlight=True,\n",
    "            line_color='black').geojson.add_to(m)\n",
    "\n",
    "# Create the on-click popup for additional details for each block group\n",
    "ch2.add_child(\n",
    "    folium.features.GeoJsonPopup(['city', 'holc_grade'], labels=True, \n",
    "                                   aliases=['City', 'HOLC Grade'])\n",
    ")\n",
    "\n",
    "# add basemap overlay\n",
    "folium.TileLayer('cartodbpositron', max_bounds=True, zoom_start=7, min_zoom=7, \n",
    "                min_lon=-107, max_lon=-93, min_lat=29, max_lat=36,overlay=True,name=\"Basemap\").add_to(m)\n",
    "\n",
    "# add layer controls to map, display by default\n",
    "folium.LayerControl(collapsed=False).add_to(m)\n",
    "\n",
    "#display the map layers\n",
    "m"
   ]
  },
  {
   "cell_type": "markdown",
   "metadata": {},
   "source": [
    "### Export Interactive Map Files"
   ]
  },
  {
   "cell_type": "code",
   "execution_count": null,
   "metadata": {},
   "outputs": [],
   "source": [
    "# Path hack\n",
    "import os\n",
    "# change directory from the current analysis folder to the top level folder for easier navigation\n",
    "os.chdir('../')\n",
    "# confirm we're at the top level project folder\n",
    "print(os.getcwd())\n",
    "\n",
    "# save shapefiles for use in app\n",
    "# red_sab.to_file(\"data/shapefiles/overlap_sab.shp\")\n",
    "# red_ex.to_file(\"data/shapefiles/redline_tx.shp\")"
   ]
  }
 ],
 "metadata": {
  "kernelspec": {
   "display_name": "Python 3.8.8 ('base')",
   "language": "python",
   "name": "python3"
  },
  "language_info": {
   "codemirror_mode": {
    "name": "ipython",
    "version": 3
   },
   "file_extension": ".py",
   "mimetype": "text/x-python",
   "name": "python",
   "nbconvert_exporter": "python",
   "pygments_lexer": "ipython3",
   "version": "3.8.8"
  },
  "orig_nbformat": 4,
  "vscode": {
   "interpreter": {
    "hash": "40d3a090f54c6569ab1632332b64b2c03c39dcf918b08424e98f38b5ae0af88f"
   }
  }
 },
 "nbformat": 4,
 "nbformat_minor": 2
}
